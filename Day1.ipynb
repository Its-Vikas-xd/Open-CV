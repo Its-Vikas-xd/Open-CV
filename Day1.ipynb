{
 "cells": [
  {
   "cell_type": "markdown",
   "id": "349de32d",
   "metadata": {},
   "source": [
    "## Read and Show Image"
   ]
  },
  {
   "cell_type": "code",
   "execution_count": 16,
   "id": "145c36a4",
   "metadata": {},
   "outputs": [],
   "source": [
    "import cv2 \n",
    "import numpy as np\n",
    "import os"
   ]
  },
  {
   "cell_type": "code",
   "execution_count": null,
   "id": "d0255e25",
   "metadata": {},
   "outputs": [],
   "source": [
    "img=cv2.imread(r\"Images\\img1.jpg\")                   # Read the Image \n",
    "cv2.imshow(\"Read Image1\",img)                        # Image Show\n",
    "cv2.waitKey(0)                                      # Image Frame wait time -ms and 0 pass keyboard any key press \n",
    "cv2.destroyAllWindows()                             # All Windows close\n",
    "#cv2.destroyWindow()                                 # Only One window close\n"
   ]
  },
  {
   "cell_type": "code",
   "execution_count": 18,
   "id": "09047ef1",
   "metadata": {},
   "outputs": [],
   "source": [
    "img=cv2.imread(r\"Images\\img2.jpg\")                   # Read the Image \n",
    "cv2.imshow(\"Read Image2\",img)                        # Image Show\n",
    "cv2.waitKey(0)                                      # Image Frame wait time -ms and 0 pass keyboard any key press \n",
    "cv2.destroyAllWindows()                             # All Windows close\n",
    "#cv2.destroyWindow()                                 # Only One window close"
   ]
  },
  {
   "cell_type": "code",
   "execution_count": 19,
   "id": "cf04ef74",
   "metadata": {},
   "outputs": [],
   "source": [
    "img=cv2.imread(r\"Images\\img3.jpg\")                   # Read the Image \n",
    "cv2.imshow(\"Read Image3\",img)                        # Image Show\n",
    "cv2.waitKey(0)                                      # Image Frame wait time -ms and 0 pass keyboard any key press \n",
    "cv2.destroyAllWindows()                             # All Windows close\n",
    "#cv2.destroyWindow()                                 # Only One window close"
   ]
  },
  {
   "cell_type": "code",
   "execution_count": null,
   "id": "5fb1af90",
   "metadata": {},
   "outputs": [],
   "source": []
  },
  {
   "cell_type": "code",
   "execution_count": null,
   "id": "d412de0b",
   "metadata": {},
   "outputs": [],
   "source": []
  },
  {
   "cell_type": "markdown",
   "id": "65524b07",
   "metadata": {},
   "source": [
    "## Resize and Slide Showing"
   ]
  },
  {
   "cell_type": "code",
   "execution_count": 20,
   "id": "96aac1c2",
   "metadata": {},
   "outputs": [],
   "source": [
    "image=cv2.imread(r\"Images\\img3.jpg\")\n",
    "re_Image=cv2.resize(image,(500,300))\n",
    "cv2.imshow(\"Image 3\",re_Image)\n",
    "cv2.waitKey(0)\n",
    "cv2.destroyAllWindows()"
   ]
  },
  {
   "cell_type": "code",
   "execution_count": 21,
   "id": "555e6413",
   "metadata": {},
   "outputs": [
    {
     "data": {
      "text/plain": [
       "array([[1, 2, 3, 1, 2, 3, 1, 2, 3, 1, 2, 3]])"
      ]
     },
     "execution_count": 21,
     "metadata": {},
     "output_type": "execute_result"
    }
   ],
   "source": [
    "v = np.array([[1,2,3,1,2,3]])\n",
    "np.hstack((v,v))\n"
   ]
  },
  {
   "cell_type": "code",
   "execution_count": 22,
   "id": "88700d14",
   "metadata": {},
   "outputs": [
    {
     "name": "stdout",
     "output_type": "stream",
     "text": [
      "[[[117 113 119]\n",
      "  [110 106 111]\n",
      "  [ 98  94  99]\n",
      "  ...\n",
      "  [123 141 152]\n",
      "  [122 138 150]\n",
      "  [122 138 150]]\n",
      "\n",
      " [[119 115 121]\n",
      "  [109 105 110]\n",
      "  [ 94  91  93]\n",
      "  ...\n",
      "  [123 141 152]\n",
      "  [124 140 152]\n",
      "  [125 141 153]]\n",
      "\n",
      " [[113 109 114]\n",
      "  [101  97 102]\n",
      "  [ 88  85  87]\n",
      "  ...\n",
      "  [122 140 151]\n",
      "  [125 141 153]\n",
      "  [128 144 156]]\n",
      "\n",
      " ...\n",
      "\n",
      " [[124 144 162]\n",
      "  [122 142 160]\n",
      "  [122 142 160]\n",
      "  ...\n",
      "  [109 120 134]\n",
      "  [108 119 133]\n",
      "  [109 120 134]]\n",
      "\n",
      " [[124 144 162]\n",
      "  [123 143 161]\n",
      "  [122 142 160]\n",
      "  ...\n",
      "  [109 120 134]\n",
      "  [107 118 132]\n",
      "  [107 118 132]]\n",
      "\n",
      " [[124 144 162]\n",
      "  [124 144 162]\n",
      "  [123 143 161]\n",
      "  ...\n",
      "  [109 120 134]\n",
      "  [107 118 132]\n",
      "  [105 116 130]]]\n"
     ]
    }
   ],
   "source": [
    "img = cv2.imread(r\"Images\\img3.jpg\")\n",
    "print(img)  #RGB"
   ]
  },
  {
   "cell_type": "code",
   "execution_count": 23,
   "id": "510040a8",
   "metadata": {},
   "outputs": [],
   "source": [
    "image=cv2.imread(r\"Images\\img2.jpg\")\n",
    "re_Image=cv2.resize(image,(300,300))\n",
    "h=np.hstack((re_Image,re_Image,re_Image))\n",
    "v=np.vstack((h,h))\n",
    "\n",
    "\n",
    "cv2.imshow(\"Image 2\",v)\n",
    "cv2.waitKey(0)\n",
    "cv2.destroyAllWindows()"
   ]
  },
  {
   "cell_type": "markdown",
   "id": "99d90617",
   "metadata": {},
   "source": [
    "## Slide Show"
   ]
  },
  {
   "cell_type": "code",
   "execution_count": 25,
   "id": "860eb265",
   "metadata": {},
   "outputs": [
    {
     "data": {
      "text/plain": [
       "['img1.jpg',\n",
       " 'img2.jpg',\n",
       " 'img3.jpg',\n",
       " 'img4.jpg',\n",
       " 'img5.jpg',\n",
       " 'img6.jpg',\n",
       " 'img7.jpg']"
      ]
     },
     "execution_count": 25,
     "metadata": {},
     "output_type": "execute_result"
    }
   ],
   "source": [
    "list_name = os.listdir(r\"C:\\Users\\Vikas\\Desktop\\OpenCV\\Images\")\n",
    "list_name"
   ]
  },
  {
   "cell_type": "code",
   "execution_count": 31,
   "id": "4d3b3f5a",
   "metadata": {},
   "outputs": [],
   "source": [
    "import cv2\n",
    "import os\n",
    "\n",
    "# Path to the image folder\n",
    "path = r\"C:\\Users\\Vikas\\Desktop\\OpenCV\\Images\"\n",
    "\n",
    "# Get list of all image file names\n",
    "list_name = os.listdir(path)\n",
    "\n",
    "# Loop through each image\n",
    "for name in list_name:\n",
    "    img_path = os.path.join(path, name)  # Safer than manually joining\n",
    "    img = cv2.imread(img_path)\n",
    "\n",
    "    if img is not None:\n",
    "        img = cv2.resize(img, (400, 400))  # Resize to 400x400\n",
    "        cv2.imshow(\"Slide Show\", img)\n",
    "        cv2.waitKey(2000)  # Show image for 2 seconds\n",
    "    else:\n",
    "        print(f\"Failed to load {img_path}\")\n",
    "\n",
    "cv2.destroyAllWindows()\n"
   ]
  },
  {
   "cell_type": "code",
   "execution_count": null,
   "id": "374b9fd2",
   "metadata": {},
   "outputs": [],
   "source": []
  }
 ],
 "metadata": {
  "kernelspec": {
   "display_name": "Python 3",
   "language": "python",
   "name": "python3"
  },
  "language_info": {
   "codemirror_mode": {
    "name": "ipython",
    "version": 3
   },
   "file_extension": ".py",
   "mimetype": "text/x-python",
   "name": "python",
   "nbconvert_exporter": "python",
   "pygments_lexer": "ipython3",
   "version": "3.13.2"
  }
 },
 "nbformat": 4,
 "nbformat_minor": 5
}
