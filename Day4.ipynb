{
 "cells": [
  {
   "cell_type": "code",
   "execution_count": 1,
   "id": "6c28d8bf",
   "metadata": {},
   "outputs": [],
   "source": [
    "import cv2\n",
    "import numpy as np"
   ]
  },
  {
   "cell_type": "markdown",
   "id": "37d14717",
   "metadata": {},
   "source": [
    "# Circle"
   ]
  },
  {
   "cell_type": "code",
   "execution_count": null,
   "id": "3ed8b10f",
   "metadata": {},
   "outputs": [],
   "source": [
    "old_img = cv2.imread(r\"C:\\Users\\Vikas\\Desktop\\OpenCV\\Images\\img7.jpg\")\n",
    "old_img = cv2.resize(old_img,(500,500))\n",
    "\n",
    "new_img = cv2.circle(\n",
    "    img=old_img,\n",
    "    center= (190,250),\n",
    "    radius=120,\n",
    "    color= (0,255,0),\n",
    "    thickness= 4,\n",
    "    lineType= 16 )\n",
    "\n",
    "cv2.imshow(\"Image\",new_img)\n",
    "cv2.waitKey(0)\n",
    "cv2.destroyAllWindows()"
   ]
  },
  {
   "cell_type": "markdown",
   "id": "ea950714",
   "metadata": {},
   "source": [
    "# Ellipse"
   ]
  },
  {
   "cell_type": "code",
   "execution_count": 6,
   "id": "cdaf388e",
   "metadata": {},
   "outputs": [],
   "source": [
    "old_img = cv2.imread(r\"C:\\Users\\Vikas\\Desktop\\OpenCV\\Images\\img7.jpg\")\n",
    "old_img = cv2.resize(old_img,(500,500))\n",
    "\n",
    "\n",
    "old_img = cv2.putText(new_img,\n",
    "            text=\"OpenCV is Cool!\",\n",
    "            org=(40, 80),\n",
    "            fontFace=cv2.FONT_HERSHEY_TRIPLEX,\n",
    "            fontScale=1.3,\n",
    "            color=(255, 255, 255),  # white for main text\n",
    "            thickness=2,\n",
    "            lineType=cv2.LINE_AA)\n",
    "\n",
    "new_img = cv2.ellipse(\n",
    "    img=old_img,\n",
    "    center= (190,250),\n",
    "    axes=(80,120),\n",
    "    angle=30,\n",
    "    startAngle=0,\n",
    "    endAngle=360,\n",
    "    color= (0,255,0),\n",
    "    thickness= 4,\n",
    "    lineType= 16 )\n",
    "\n",
    "cv2.imshow(\"Image\",new_img)\n",
    "cv2.waitKey(0)\n",
    "cv2.destroyAllWindows()"
   ]
  },
  {
   "cell_type": "markdown",
   "id": "7c7e999e",
   "metadata": {},
   "source": [
    "#"
   ]
  },
  {
   "cell_type": "code",
   "execution_count": 7,
   "id": "ed3da24f",
   "metadata": {},
   "outputs": [],
   "source": [
    "old_img = cv2.imread(r\"C:\\Users\\Vikas\\Desktop\\OpenCV\\Images\\img5.jpg\")\n",
    "old_img = cv2.resize(old_img,(500,500))\n",
    "\n",
    "new_img = cv2.polylines(img=old_img, \n",
    "                        pts= [np.array([[100,200],[150,100],[300,200],[300,500],[100,500]])],\n",
    "                          isClosed= True, color=(0,255,0) , thickness=4, lineType=16)\n",
    "\n",
    "\n",
    "cv2.imshow(\"Image\",new_img)\n",
    "cv2.waitKey(0)\n",
    "cv2.destroyAllWindows()"
   ]
  }
 ],
 "metadata": {
  "kernelspec": {
   "display_name": "Python 3",
   "language": "python",
   "name": "python3"
  },
  "language_info": {
   "codemirror_mode": {
    "name": "ipython",
    "version": 3
   },
   "file_extension": ".py",
   "mimetype": "text/x-python",
   "name": "python",
   "nbconvert_exporter": "python",
   "pygments_lexer": "ipython3",
   "version": "3.13.2"
  }
 },
 "nbformat": 4,
 "nbformat_minor": 5
}
