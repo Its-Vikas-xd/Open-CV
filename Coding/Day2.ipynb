{
 "cells": [
  {
   "cell_type": "markdown",
   "id": "a3e6fc00",
   "metadata": {},
   "source": [
    "## Read Function"
   ]
  },
  {
   "cell_type": "code",
   "execution_count": 7,
   "id": "3198e78d",
   "metadata": {},
   "outputs": [],
   "source": [
    "import cv2"
   ]
  },
  {
   "cell_type": "code",
   "execution_count": 43,
   "id": "58693741",
   "metadata": {},
   "outputs": [
    {
     "name": "stdout",
     "output_type": "stream",
     "text": [
      "(853, 1280, 3)\n"
     ]
    }
   ],
   "source": [
    "img = cv2.imread(r\"C:\\Users\\Vikas\\Desktop\\OpenCV\\Images\\img2.jpg\") #bgr  (0-255,0-255,0-255)\n",
    "print(img.shape)\n",
    "img = cv2.resize(img,(400,500))\n",
    "cv2.imshow(\"Img 2\",img)\n",
    "cv2.waitKey(0)\n",
    "cv2.destroyAllWindows()"
   ]
  },
  {
   "cell_type": "code",
   "execution_count": 44,
   "id": "80ce07b5",
   "metadata": {},
   "outputs": [
    {
     "name": "stdout",
     "output_type": "stream",
     "text": [
      "(853, 1280, 3)\n"
     ]
    }
   ],
   "source": [
    "img = cv2.imread(r\"C:\\Users\\Vikas\\Desktop\\OpenCV\\Images\\img4.jpg\") #bgr  (0-255,0-255,0-255)\n",
    "print(img.shape)\n",
    "img = cv2.resize(img,(300,300))\n",
    "cv2.imshow(\"Img 4\",img)\n",
    "cv2.waitKey(0)\n",
    "cv2.destroyAllWindows()"
   ]
  },
  {
   "cell_type": "code",
   "execution_count": 45,
   "id": "878f2913",
   "metadata": {},
   "outputs": [
    {
     "name": "stdout",
     "output_type": "stream",
     "text": [
      "(853, 1280, 3)\n"
     ]
    }
   ],
   "source": [
    "img = cv2.imread(r\"C:\\Users\\Vikas\\Desktop\\OpenCV\\Images\\img3.jpg\",1) #bgr  (0-255,0-255,0-255)\n",
    "print(img.shape)\n",
    "img = cv2.resize(img,(300,300))\n",
    "cv2.imshow(\"Img 3\",img)\n",
    "cv2.waitKey(0)\n",
    "cv2.destroyAllWindows()"
   ]
  },
  {
   "cell_type": "markdown",
   "id": "1654e2d3",
   "metadata": {},
   "source": [
    "# Text over a Image"
   ]
  },
  {
   "cell_type": "code",
   "execution_count": 47,
   "id": "3c5c50cc",
   "metadata": {},
   "outputs": [],
   "source": [
    "img_get = cv2.imread(r\"C:\\Users\\Vikas\\Desktop\\OpenCV\\Images\\img2.jpg\")\n",
    "img_get = cv2.resize(img_get,(400,500))\n",
    "\n",
    "\n",
    "txt = cv2.putText(img = img_get,\n",
    "text = \"Open CV\",\n",
    "org = (50,80),\n",
    "fontFace=cv2.FONT_HERSHEY_COMPLEX_SMALL,\n",
    "fontScale = 3,\n",
    "color = (0,0,0),\n",
    "thickness = 3,\n",
    "lineType = cv2.LINE_8,\n",
    "bottomLeftOrigin= False)\n",
    "\n",
    "cv2.imshow(\"Images\",img_get)\n",
    "cv2.waitKey(0)\n",
    "cv2.destroyAllWindows()"
   ]
  }
 ],
 "metadata": {
  "kernelspec": {
   "display_name": "Python 3",
   "language": "python",
   "name": "python3"
  },
  "language_info": {
   "codemirror_mode": {
    "name": "ipython",
    "version": 3
   },
   "file_extension": ".py",
   "mimetype": "text/x-python",
   "name": "python",
   "nbconvert_exporter": "python",
   "pygments_lexer": "ipython3",
   "version": "3.13.2"
  }
 },
 "nbformat": 4,
 "nbformat_minor": 5
}
