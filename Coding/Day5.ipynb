{
 "cells": [
  {
   "cell_type": "code",
   "execution_count": null,
   "id": "142699b8",
   "metadata": {},
   "outputs": [],
   "source": [
    "import cv2\n",
    "import numpy as np"
   ]
  },
  {
   "cell_type": "markdown",
   "id": "e98c370c",
   "metadata": {},
   "source": [
    "# Additon and Subtract on Images"
   ]
  },
  {
   "cell_type": "code",
   "execution_count": 20,
   "id": "cdacfc3a",
   "metadata": {},
   "outputs": [],
   "source": [
    "img1 = cv2.imread(r\"C:\\Users\\Vikas\\Desktop\\OpenCV\\Images\\img7.jpg\")\n",
    "img2 = cv2.imread(r\"C:\\Users\\Vikas\\Desktop\\OpenCV\\Images\\img4.jpg\")\n",
    "\n",
    "img1 = cv2.resize(img1,(400,400))\n",
    "img2 = cv2.resize(img2,(400,400))\n",
    "\n",
    "new_img = cv2.addWeighted(img1,1,img2,0.2,1)\n",
    "# new_img = cv2.subtract(img1,img2)\n",
    "\n",
    "cv2.imshow(\"Image\",new_img)\n",
    "cv2.waitKey(0)\n",
    "cv2.destroyAllWindows()"
   ]
  },
  {
   "cell_type": "markdown",
   "id": "7f8b3503",
   "metadata": {},
   "source": [
    "# Bitwise operations on Binary Images\n"
   ]
  },
  {
   "cell_type": "code",
   "execution_count": 26,
   "id": "c227d9ee",
   "metadata": {},
   "outputs": [],
   "source": [
    "img1 = cv2.imread(r\"C:\\Users\\Vikas\\Desktop\\OpenCV\\Images\\img8.png\")\n",
    "img2 = cv2.imread(r\"C:\\Users\\Vikas\\Desktop\\OpenCV\\Images\\img9.png\")\n",
    "\n",
    "img1 = cv2.resize(img1,(400,400))\n",
    "img2 = cv2.resize(img2,(400,400))\n",
    "\n",
    "#new = cv2.bitwise_and(img1,img2)\n",
    "#new = cv2.bitwise_or(img1,img2)\n",
    "#new = cv2.bitwise_not(img1,img2)\n",
    "new = cv2.bitwise_xor(img1,img2)\n",
    "h1 =np.hstack((img1,img2,new))\n",
    "\n",
    "cv2.imshow(\"Image\",h1)\n",
    "cv2.waitKey(0)\n",
    "cv2.destroyAllWindows()\n",
    "\n"
   ]
  }
 ],
 "metadata": {
  "kernelspec": {
   "display_name": "Python 3",
   "language": "python",
   "name": "python3"
  },
  "language_info": {
   "codemirror_mode": {
    "name": "ipython",
    "version": 3
   },
   "file_extension": ".py",
   "mimetype": "text/x-python",
   "name": "python",
   "nbconvert_exporter": "python",
   "pygments_lexer": "ipython3",
   "version": "3.13.2"
  }
 },
 "nbformat": 4,
 "nbformat_minor": 5
}
