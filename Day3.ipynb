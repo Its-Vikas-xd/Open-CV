{
 "cells": [
  {
   "cell_type": "code",
   "execution_count": 35,
   "id": "7f28a102",
   "metadata": {},
   "outputs": [],
   "source": [
    "import cv2"
   ]
  },
  {
   "cell_type": "code",
   "execution_count": 36,
   "id": "b4a69aa8",
   "metadata": {},
   "outputs": [],
   "source": [
    "old_img = cv2.imread(r\"C:\\Users\\Vikas\\Desktop\\OpenCV\\Images\\img7.jpg\")\n",
    "old_img = cv2.resize(old_img,(500,500))\n",
    "\n",
    "new_img=cv2.line(img=old_img, pt1= (150,30), pt2= (300,190), color= (0,255,0), thickness= 4, lineType=4)\n",
    "\n",
    "cv2.imshow(\"Image\",new_img)\n",
    "cv2.waitKey(0)\n",
    "cv2.destroyAllWindows()"
   ]
  },
  {
   "cell_type": "code",
   "execution_count": 41,
   "id": "dc3118a4",
   "metadata": {},
   "outputs": [],
   "source": [
    "import cv2\n",
    "import numpy as np\n",
    "\n",
    "# Read and resize the image\n",
    "old_img = cv2.imread(r\"C:\\Users\\Vikas\\Desktop\\OpenCV\\Images\\img7.jpg\")\n",
    "old_img = cv2.resize(old_img, (500, 500))\n",
    "\n",
    "# Create overlay for transparency effect\n",
    "overlay = old_img.copy()\n",
    "\n",
    "# Draw a filled rectangle (cool semi-transparent box)\n",
    "cv2.rectangle(overlay, pt1=(70, 100), pt2=(300, 400), color=(0, 255, 0), thickness=-1)\n",
    "alpha = 0.3  # Transparency factor\n",
    "new_img = cv2.addWeighted(overlay, alpha, old_img, 1 - alpha, 0)\n",
    "\n",
    "# Draw border rectangle over it\n",
    "cv2.rectangle(new_img, pt1=(70, 100), pt2=(300, 400), color=(0, 255, 0), thickness=3)\n",
    "\n",
    "# Add cool glowing-style text\n",
    "cv2.putText(new_img,\n",
    "            text=\"OpenCV is Cool!\",\n",
    "            org=(40, 80),\n",
    "            fontFace=cv2.FONT_HERSHEY_TRIPLEX,\n",
    "            fontScale=1.3,\n",
    "            color=(255, 255, 255),  # white for main text\n",
    "            thickness=2,\n",
    "            lineType=cv2.LINE_AA)\n",
    "\n",
    "# Shadow effect (black offset text behind)\n",
    "cv2.putText(new_img,\n",
    "            text=\"OpenCV is Cool!\",\n",
    "            org=(42, 82),  # Slightly offset for shadow\n",
    "            fontFace=cv2.FONT_HERSHEY_TRIPLEX,\n",
    "            fontScale=1.3,\n",
    "            color=(0, 0, 0),  # black shadow\n",
    "            thickness=3,\n",
    "            lineType=cv2.LINE_AA)\n",
    "\n",
    "# Display the final image\n",
    "cv2.imshow(\"Styled Image\", new_img)\n",
    "cv2.waitKey(0)\n",
    "cv2.destroyAllWindows()\n"
   ]
  }
 ],
 "metadata": {
  "kernelspec": {
   "display_name": "Python 3",
   "language": "python",
   "name": "python3"
  },
  "language_info": {
   "codemirror_mode": {
    "name": "ipython",
    "version": 3
   },
   "file_extension": ".py",
   "mimetype": "text/x-python",
   "name": "python",
   "nbconvert_exporter": "python",
   "pygments_lexer": "ipython3",
   "version": "3.13.2"
  }
 },
 "nbformat": 4,
 "nbformat_minor": 5
}
