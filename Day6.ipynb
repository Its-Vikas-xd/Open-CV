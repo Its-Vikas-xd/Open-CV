{
 "cells": [
  {
   "cell_type": "code",
   "execution_count": 2,
   "id": "eab27323",
   "metadata": {},
   "outputs": [],
   "source": [
    "import cv2"
   ]
  },
  {
   "cell_type": "code",
   "execution_count": null,
   "id": "c2b3b812",
   "metadata": {},
   "outputs": [
    {
     "name": "stdout",
     "output_type": "stream",
     "text": [
      "(500, 500, 3)\n",
      "(500, 500)\n"
     ]
    }
   ],
   "source": [
    "img = cv2.imread(r\"C:\\Users\\Vikas\\Desktop\\OpenCV\\Images\\img10.jpg\")\n",
    "img = cv2.resize(img,(500,500))\n",
    "print(img.shape)\n",
    "\n",
    "new_img = cv2.Canny(img,100,200,apertureSize=5,L2gradient=True)\n",
    "print(new_img.shape)\n",
    "\n",
    "cv2.imshow(\"Image\",new_img)\n",
    "cv2.imshow(\"Image1\",img)\n",
    "\n",
    "cv2.waitKey(0)\n",
    "cv2.destroyAllWindows()"
   ]
  },
  {
   "cell_type": "markdown",
   "id": "894ec031",
   "metadata": {},
   "source": [
    "# Image Scaling, Rotating"
   ]
  },
  {
   "cell_type": "code",
   "execution_count": 1,
   "id": "55c41b43",
   "metadata": {},
   "outputs": [
    {
     "ename": "NameError",
     "evalue": "name 'cv2' is not defined",
     "output_type": "error",
     "traceback": [
      "\u001b[31m---------------------------------------------------------------------------\u001b[39m",
      "\u001b[31mNameError\u001b[39m                                 Traceback (most recent call last)",
      "\u001b[36mCell\u001b[39m\u001b[36m \u001b[39m\u001b[32mIn[1]\u001b[39m\u001b[32m, line 1\u001b[39m\n\u001b[32m----> \u001b[39m\u001b[32m1\u001b[39m org_img = \u001b[43mcv2\u001b[49m.imread(\u001b[33mr\u001b[39m\u001b[33m\"\u001b[39m\u001b[33mC:\u001b[39m\u001b[33m\\\u001b[39m\u001b[33mUsers\u001b[39m\u001b[33m\\\u001b[39m\u001b[33mVikas\u001b[39m\u001b[33m\\\u001b[39m\u001b[33mDesktop\u001b[39m\u001b[33m\\\u001b[39m\u001b[33mOpenCV\u001b[39m\u001b[33m\\\u001b[39m\u001b[33mImages\u001b[39m\u001b[33m\\\u001b[39m\u001b[33mimg10.jpg\u001b[39m\u001b[33m\"\u001b[39m)\n\u001b[32m      2\u001b[39m res_img = cv2.resize(org_img,(\u001b[32m400\u001b[39m,\u001b[32m500\u001b[39m))\n\u001b[32m      3\u001b[39m cv2.imshow(\u001b[33m\"\u001b[39m\u001b[33mImage1\u001b[39m\u001b[33m\"\u001b[39m,res_img)\n",
      "\u001b[31mNameError\u001b[39m: name 'cv2' is not defined"
     ]
    }
   ],
   "source": [
    "org_img = cv2.imread(r\"C:\\Users\\Vikas\\Desktop\\OpenCV\\Images\\img10.jpg\")\n",
    "res_img = cv2.resize(org_img,(400,500))\n",
    "cv2.imshow(\"Image1\",res_img)\n",
    "cv2.imshow(\"Image\",org_img)\n",
    "cv2.waitKey(0)\n",
    "cv2.destroyAllWindows()"
   ]
  },
  {
   "cell_type": "code",
   "execution_count": null,
   "id": "980edc67",
   "metadata": {},
   "outputs": [
    {
     "data": {
      "text/plain": [
       "(500, 400, 3)"
      ]
     },
     "execution_count": 12,
     "metadata": {},
     "output_type": "execute_result"
    }
   ],
   "source": [
    "org_img = cv2.imread(r\"C:\\Users\\Vikas\\Desktop\\OpenCV\\Images\\img10.jpg\")\n",
    "res_img = cv2.resize(org_img,(400,500))\n",
    "\n",
    "\n",
    "res_img.shape\n",
    "# m= cv2.getRotationMatrix2D()"
   ]
  }
 ],
 "metadata": {
  "kernelspec": {
   "display_name": "Python 3",
   "language": "python",
   "name": "python3"
  },
  "language_info": {
   "codemirror_mode": {
    "name": "ipython",
    "version": 3
   },
   "file_extension": ".py",
   "mimetype": "text/x-python",
   "name": "python",
   "nbconvert_exporter": "python",
   "pygments_lexer": "ipython3",
   "version": "3.13.2"
  }
 },
 "nbformat": 4,
 "nbformat_minor": 5
}
